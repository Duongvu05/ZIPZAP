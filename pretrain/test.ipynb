{
 "cells": [
  {
   "cell_type": "code",
   "execution_count": null,
   "id": "b961fe9a",
   "metadata": {},
   "outputs": [],
   "source": [
    "import numpy as np\n",
    "from sklearn.manifold import TSNE\n",
    "import matplotlib.pyplot as plt\n",
    "import pickle as pkl\n",
    "import pandas as pd\n",
    "\n",
    "address_input_dir = \"/home/phinn/BERT4ETH/ZIPZAP/outputs/zipzap_exp_epoch_50/address.npy\"\n",
    "embed_input_dir = \"/home/phinn/BERT4ETH/ZIPZAP/outputs/zipzap_exp_epoch_50/embedding.npy\"\n",
    "\n",
    "phisher = pd.read_csv(\"/home/phinn/BERT4ETH/ZIPZAP/data/phisher_account.txt\", names = [\"accounts\"])\n",
    "phisher_acc = set(phisher.accounts.values)   # dùng set cho tìm kiếm nhanh hơn\n",
    "\n",
    "addresses = list(np.load(address_input_dir, allow_pickle=True))\n",
    "embeddings = np.load(embed_input_dir)\n",
    "\n",
    "addresses = addresses[:]\n",
    "embedding = embeddings[:, :]\n",
    "\n",
    "# Tạo nhãn: 1 = phisher, 0 = không phải\n",
    "labels = [1 if addr in phisher_acc else 0 for addr in addresses]\n",
    "labels = np.array(labels)  # Chuyển sang numpy để indexing\n",
    "\n",
    "# t-SNE\n",
    "tsne = TSNE(n_components=2, random_state=42, perplexity=30)\n",
    "embeddings_2d = tsne.fit_transform(embedding)\n",
    "\n",
    "# Trực quan hóa\n",
    "plt.figure(figsize=(10, 8))\n",
    "for label in np.unique(labels):\n",
    "    idx = labels == label\n",
    "    plt.scatter(embeddings_2d[idx, 0], embeddings_2d[idx, 1],\n",
    "                label=\"Phisher\" if label == 1 else \"Normal\",\n",
    "                alpha=0.7, s=40)\n",
    "plt.legend(title=\"Account Type\", bbox_to_anchor=(1.05, 1), loc='upper left')\n",
    "plt.title(\"t-SNE Visualization of BERT Embeddings\\n(Phisher vs. Normal Accounts)\")\n",
    "plt.xlabel(\"Dimension 1\")\n",
    "plt.ylabel(\"Dimension 2\")\n",
    "plt.tight_layout()\n",
    "plt.show()\n"
   ]
  },
  {
   "cell_type": "code",
   "execution_count": 1,
   "id": "8dae6de8",
   "metadata": {},
   "outputs": [
    {
     "name": "stdout",
     "output_type": "stream",
     "text": [
      "===========Load Sequence===========\n",
      "2253155\n"
     ]
    }
   ],
   "source": [
    "from vocab import FreqVocab\n",
    "import pickle as pkl\n",
    "import pandas as pd\n",
    "\n",
    "vocab = FreqVocab()\n",
    "print(\"===========Load Sequence===========\")\n",
    "with open(\"/home/phinn/BERT4ETH/ZIPZAP/dynamic/eoa2seq_dynamic_exp_adj.pkl\",\"rb\") as f:\n",
    "        eoa2seq = pkl.load(f)\n",
    "\n",
    "vocab.update(eoa2seq)\n",
    "vocab.generate_vocab()\n",
    "     \n",
    "phisher_account = pd.read_csv(\"/home/phinn/BERT4ETH/ZIPZAP/data/phisher_account.txt\",names = [\"account\"])\n",
    "phisher_account = set(phisher_account.account.values)   # dùng set cho tìm kiếm nhanh hơn\n",
    "\n",
    "print(len(vocab.token_to_ids))"
   ]
  }
 ],
 "metadata": {
  "kernelspec": {
   "display_name": "Python 3",
   "language": "python",
   "name": "python3"
  },
  "language_info": {
   "codemirror_mode": {
    "name": "ipython",
    "version": 3
   },
   "file_extension": ".py",
   "mimetype": "text/x-python",
   "name": "python",
   "nbconvert_exporter": "python",
   "pygments_lexer": "ipython3",
   "version": "3.10.12"
  }
 },
 "nbformat": 4,
 "nbformat_minor": 5
}
